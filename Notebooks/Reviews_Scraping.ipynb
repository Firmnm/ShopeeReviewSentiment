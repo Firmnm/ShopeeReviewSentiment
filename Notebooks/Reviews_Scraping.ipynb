{
  "nbformat": 4,
  "nbformat_minor": 0,
  "metadata": {
    "colab": {
      "provenance": []
    },
    "kernelspec": {
      "name": "python3",
      "display_name": "Python 3"
    },
    "language_info": {
      "name": "python"
    }
  },
  "cells": [
    {
      "cell_type": "markdown",
      "source": [
        "# Setup and Import Libraries"
      ],
      "metadata": {
        "id": "EKv-r3arcpjj"
      }
    },
    {
      "cell_type": "code",
      "execution_count": 8,
      "metadata": {
        "id": "qWQJgeohaXFU"
      },
      "outputs": [],
      "source": [
        "import pandas as pd\n",
        "from google_play_scraper import  reviews_all, reviews, Sort"
      ]
    },
    {
      "cell_type": "markdown",
      "source": [
        "# Scraping Sample and Save to CSV"
      ],
      "metadata": {
        "id": "zI9TnXK6cIP_"
      }
    },
    {
      "cell_type": "markdown",
      "source": [
        "Scraping Shopee app reviews using the google-play-scraper library on the playstore platform."
      ],
      "metadata": {
        "id": "SOTynJdXcN3O"
      }
    },
    {
      "cell_type": "code",
      "source": [
        "def scraping():\n",
        "    app_reviews, _ = reviews(\n",
        "        'com.shopee.id',\n",
        "        lang='id',\n",
        "        country='id',\n",
        "        count=20000,\n",
        "        sort=Sort.NEWEST\n",
        "    )\n",
        "    df = pd.DataFrame(app_reviews)\n",
        "    df = df[['content', 'score']]\n",
        "    df.to_csv('shopee_reviews.csv', index=False)\n",
        "    print(\"Data successfully saved to shopee_reviews.csv\")\n",
        "\n",
        "scraping()"
      ],
      "metadata": {
        "colab": {
          "base_uri": "https://localhost:8080/"
        },
        "id": "JcwJXZpBab3d",
        "outputId": "4b8251d1-7cc7-44fb-936b-59fe22207291"
      },
      "execution_count": 9,
      "outputs": [
        {
          "output_type": "stream",
          "name": "stdout",
          "text": [
            "Data successfully saved to shopee_reviews.csv\n"
          ]
        }
      ]
    },
    {
      "cell_type": "code",
      "source": [
        "! pipreqs \"/content\" --scan-notebooks"
      ],
      "metadata": {
        "colab": {
          "base_uri": "https://localhost:8080/"
        },
        "id": "DtGXO7UEqcHc",
        "outputId": "202ac5e2-139c-4341-fc7b-630cc1eb8822"
      },
      "execution_count": 10,
      "outputs": [
        {
          "output_type": "stream",
          "name": "stdout",
          "text": [
            "INFO: Successfully saved requirements file in /content/requirements.txt\n"
          ]
        }
      ]
    }
  ]
}