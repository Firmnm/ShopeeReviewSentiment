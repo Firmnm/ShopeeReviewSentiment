{
  "nbformat": 4,
  "nbformat_minor": 0,
  "metadata": {
    "colab": {
      "provenance": []
    },
    "kernelspec": {
      "name": "python3",
      "display_name": "Python 3"
    },
    "language_info": {
      "name": "python"
    }
  },
  "cells": [
    {
      "cell_type": "markdown",
      "source": [
        "# **Setup and Import Libraries**"
      ],
      "metadata": {
        "id": "-OF8pP69mntI"
      }
    },
    {
      "cell_type": "code",
      "source": [
        "import pickle\n",
        "import numpy as np\n",
        "import tensorflow as tf\n",
        "from keras.preprocessing.sequence import pad_sequences\n",
        "\n",
        "import warnings\n",
        "warnings.filterwarnings(\"ignore\")"
      ],
      "metadata": {
        "id": "fCvD7e2KmlIl"
      },
      "execution_count": 7,
      "outputs": []
    },
    {
      "cell_type": "markdown",
      "source": [
        "# **Load Pre-trained Models & Tokenizers**"
      ],
      "metadata": {
        "id": "cqhHQ5OJmrWy"
      }
    },
    {
      "cell_type": "code",
      "source": [
        "# Load Model LSTM\n",
        "lstm_model = tf.keras.models.load_model(\"lstm_sentiment_model.h5\")\n",
        "\n",
        "# Load Model SVM\n",
        "with open(\"svm_sentiment_model.pkl\", \"rb\") as f:\n",
        "    svm_model = pickle.load(f)\n",
        "\n",
        "# Load Model Random Forest\n",
        "with open(\"rf_sentiment_model.pkl\", \"rb\") as f:\n",
        "    rf_model = pickle.load(f)\n",
        "\n",
        "# Load TF-IDF Vectorizer\n",
        "with open(\"vectorizer.pkl\", \"rb\") as f:\n",
        "    vectorizer = pickle.load(f)\n",
        "\n",
        "# Load Tokenizer\n",
        "with open(\"tokenizer.pkl\", \"rb\") as f:\n",
        "    tokenizer = pickle.load(f)"
      ],
      "metadata": {
        "colab": {
          "base_uri": "https://localhost:8080/"
        },
        "id": "VV3MTIhwmlzV",
        "outputId": "7f1520ea-c5e2-460f-830e-6aef3b112b47"
      },
      "execution_count": 8,
      "outputs": [
        {
          "output_type": "stream",
          "name": "stderr",
          "text": [
            "WARNING:absl:Compiled the loaded model, but the compiled metrics have yet to be built. `model.compile_metrics` will be empty until you train or evaluate the model.\n"
          ]
        }
      ]
    },
    {
      "cell_type": "markdown",
      "source": [
        "# **Preprocessing New Data**"
      ],
      "metadata": {
        "id": "9_srBbABmuDG"
      }
    },
    {
      "cell_type": "code",
      "source": [
        "# New Sample Data for Prediction\n",
        "new_texts = [\n",
        "    \"Produk ini sangat bagus!\",\n",
        "    \"Pelayanan sangat lambat dan mengecewakan.\",\n",
        "    \"Harganya cukup mahal tapi kualitasnya biasa saja.\"\n",
        "]\n",
        "\n",
        "# Preprocessing for LSTM Model\n",
        "new_sequences = tokenizer.texts_to_sequences(new_texts)\n",
        "new_padded = pad_sequences(new_sequences, maxlen=100)"
      ],
      "metadata": {
        "id": "EqABPZQDnKke"
      },
      "execution_count": 9,
      "outputs": []
    },
    {
      "cell_type": "code",
      "source": [
        "# Preprocessing untuk Model SVM & RF (TF-IDF)\n",
        "new_tfidf = vectorizer.transform(new_texts)"
      ],
      "metadata": {
        "id": "jRj-2FKhnK_f"
      },
      "execution_count": 10,
      "outputs": []
    },
    {
      "cell_type": "markdown",
      "source": [
        "# **Perform Sentiment Prediction**"
      ],
      "metadata": {
        "id": "BdL5sUXnn-3F"
      }
    },
    {
      "cell_type": "code",
      "execution_count": 11,
      "metadata": {
        "colab": {
          "base_uri": "https://localhost:8080/"
        },
        "id": "JQTsdEa_g10f",
        "outputId": "d06e2171-da2c-476d-c7c0-f323a9e95019"
      },
      "outputs": [
        {
          "output_type": "stream",
          "name": "stdout",
          "text": [
            "\u001b[1m1/1\u001b[0m \u001b[32m━━━━━━━━━━━━━━━━━━━━\u001b[0m\u001b[37m\u001b[0m \u001b[1m0s\u001b[0m 481ms/step\n"
          ]
        }
      ],
      "source": [
        "# Predict with LSTM\n",
        "lstm_preds = np.argmax(lstm_model.predict(new_padded), axis=1)\n",
        "\n",
        "# Predict with SVM\n",
        "svm_preds = svm_model.predict(new_tfidf)\n",
        "\n",
        "# Predict with Random Forest\n",
        "rf_preds = rf_model.predict(new_tfidf)"
      ]
    },
    {
      "cell_type": "markdown",
      "source": [
        "# **Display Results**"
      ],
      "metadata": {
        "id": "22ZJHiZyoKKp"
      }
    },
    {
      "cell_type": "code",
      "source": [
        "# Displaying the Prediction Results\n",
        "label_map = {0: \"negative\", 1: \"neutral\", 2: \"positive\"}\n",
        "\n",
        "print(\"\\nSentiment Prediction Results: \")\n",
        "for i, text in enumerate(new_texts):\n",
        "    print(f\"Text: {text}\")\n",
        "    print(f\"LSTM Prediction: {label_map[lstm_preds[i]]}\")\n",
        "    print(f\"SVM Prediction: {label_map[svm_preds[i]]}\")\n",
        "    print(f\"Random Forest Prediction: {label_map[rf_preds[i]]}\")\n",
        "    print(\"-\" * 50)"
      ],
      "metadata": {
        "colab": {
          "base_uri": "https://localhost:8080/"
        },
        "id": "AnHMI7mZnU3x",
        "outputId": "2e0391cf-6a2f-4ad7-f99b-d76e846b89e7"
      },
      "execution_count": 12,
      "outputs": [
        {
          "output_type": "stream",
          "name": "stdout",
          "text": [
            "\n",
            "Sentiment Prediction Results: \n",
            "Text: Produk ini sangat bagus!\n",
            "LSTM Prediction: positive\n",
            "SVM Prediction: positive\n",
            "Random Forest Prediction: positive\n",
            "--------------------------------------------------\n",
            "Text: Pelayanan sangat lambat dan mengecewakan.\n",
            "LSTM Prediction: negative\n",
            "SVM Prediction: negative\n",
            "Random Forest Prediction: negative\n",
            "--------------------------------------------------\n",
            "Text: Harganya cukup mahal tapi kualitasnya biasa saja.\n",
            "LSTM Prediction: neutral\n",
            "SVM Prediction: neutral\n",
            "Random Forest Prediction: neutral\n",
            "--------------------------------------------------\n"
          ]
        }
      ]
    }
  ]
}